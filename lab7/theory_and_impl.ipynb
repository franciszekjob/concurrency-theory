{
 "cells": [
  {
   "cell_type": "markdown",
   "id": "2ab43a65624a2423",
   "metadata": {
    "collapsed": false
   },
   "source": [
    "# Sprawozdanie ze współbieżnej eliminacji metodą Gaussa\n",
    "\n",
    "## Franciszek Job, 16.12.2024\n",
    "\n",
    "<!-- TOC -->\n",
    "\n",
    "- [1. Część teoretyczna](#1-czesc-teoretyczna)\n",
    "- [2. Implementacja](#2-implementacja)\n",
    "\n",
    "<!-- /TOC -->"
   ]
  },
  {
   "cell_type": "markdown",
   "id": "8b6d7f7463119f8",
   "metadata": {
    "collapsed": false
   },
   "source": [
    "## 1. Część teoretyczna\n",
    "\n",
    "### Macierz\n",
    "\n",
    "Załóżmy, że mamy następujący układ równań:\n",
    "\n",
    "$$\n",
    "\\begin{bmatrix}\n",
    "    M_{1,1} & M_{1,2} & M_{1,3} & \\cdots & M_{1,n} \\\\\n",
    "    M_{2,1} & M_{2,2} & M_{2,3} & \\cdots & M_{2,n} \\\\\n",
    "    M_{3,1} & M_{3,2} & M_{3,3} & \\cdots & M_{3,n} \\\\\n",
    "    \\vdots & \\vdots & \\vdots & \\ddots & \\vdots \\\\\n",
    "    M_{n,1} & M_{n,2} & M_{n,3} & \\cdots & M_{n,n} \\\\\n",
    "\\end{bmatrix}\n",
    "\\begin{bmatrix}\n",
    "    x_1 \\\\\n",
    "    x_2 \\\\\n",
    "    x_3 \\\\\n",
    "    \\vdots \\\\\n",
    "    x_n \\\\\n",
    "\\end{bmatrix}\n",
    "=\n",
    "\\begin{bmatrix}\n",
    "    y_1 \\\\\n",
    "    y_2 \\\\\n",
    "    y_3 \\\\\n",
    "    \\vdots \\\\\n",
    "    y_n \\\\\n",
    "\\end{bmatrix}\n",
    "$$\n",
    "\n",
    "Głównie będziemy się niżej zajmować macierzą $M$.\n",
    "\n",
    "### Niepodzielne operacje\n",
    "\n",
    "Teraz możemy zdefiniować niepodzielne operacje na jej elementach.\n",
    "\n",
    "$A_{k,i} \\to \\frac{M_{k,i}}{M_{i,i}} = m_{k,i}$  (dzielenie elementu z $k$-tego wiersza przez element z $i$-tego wiersza, w kolumnie $i$)\n",
    "\n",
    "$B_{k,j,i} \\to M_{i,j} \\cdot m_{k,i} = n_{k,j,i}$ (mnożenie elementu z $i$-tego wiersza przez $m_{k,i}$ w kolumnie $j$)\n",
    "\n",
    "$C_{k,j,i} \\to M_{k,j} - n_{k,j,i} = M_{k,j}$ (odejmowanie $n_{k,j,i}$ od elementu z $k$-tego wiersza w kolumnie $j$)\n",
    "\n",
    "\n",
    "### Alfabet (w sensie teorii śladów)\n",
    "\n",
    "Następnie definijemy sobie alfabet (w sensie teorii śladów). Jest on sumą trzech alfabetów, odpowiednio dla operacji $A$, $B$ i $C$.\n",
    "\n",
    "W takim razie:\n",
    "\n",
    "$\\Sigma_{A} = \\{ A_{k,i} \\} \\quad \\text{takie, że } i \\in \\{ 1, \\ldots, n - 1 \\} \\text{ oraz } k \\in \\{ i+1, \\ldots, n - 1 \\}$\n",
    "\n",
    "$\\Sigma_{B} = \\{ B_{k,j,i} \\} \\quad \\text{takie, że } i \\in \\{ 1, \\ldots, n - 1 \\} \\text{ oraz } j \\in \\{ i, \\ldots, m \\} \\text{ oraz } k \\in \\{ i+1, \\ldots, n - 1 \\}$\n",
    "\n",
    "$\\Sigma_{C} = \\{ C_{k,j,i} \\} \\quad \\text{takie, że } i \\in \\{ 1, \\ldots, n - 1 \\} \\text{ oraz } j \\in \\{ i, \\ldots, m \\} \\text{ oraz } k \\in \\{ i+1, \\ldots, n - 1 \\}$\n",
    "\n",
    "Cały alfabet:\n",
    "\n",
    "$ \\Sigma = \\Sigma_{A} \\cup \\Sigma_{B} \\cup \\Sigma_{C} $\n",
    "\n",
    "### Relacje zależności/niezależności\n",
    "\n",
    "Definiujemy relację zależności i niezależności:\n",
    "\n",
    "$D_1 = (A_{k,i}, B_{k,j,i}): A_{k,i}, B_{k,j,i} \\in \\Sigma$ <br>\n",
    "$D_2 = (B_{k,j,i}, C_{k,j,i}): B_{k,j,i}, C_{k,j,i} \\in \\Sigma$ <br>\n",
    "$D_3 = (A_{k_c,j_c,i_c}, A_{k_a,i_a}) \\wedge j_c = i_a \\wedge (k_c = i_a \\vee k_c = k_a): A_{k_c,j_c,i_c}, A_{k_a,i_a} \\in \\Sigma$ <br>\n",
    "$D_4 = (A_{k_c,j_c,i_c}, B_{k_b,j_b,i_b}) \\wedge k_c = i_b: A_{k_c,j_c,i_c}, B_{k_b,j_b,i_b} \\in \\Sigma$ <br>\n",
    "$D_5 = (C_{k,j,i_{C1}}, C_{k,j,i_{C2}}): C_{k,j,i_{C1}}, C_{k,j,i_{C2}} \\in \\Sigma$ <br>\n",
    "$D = \\text{sym}(D_1 \\cup D_2 \\cup D_3 \\cup D_4 \\cup D_5)^+ \\cup I_{\\Sigma}$ <br>\n",
    "$I = \\Sigma^2 - D$\n",
    "\n",
    "\n",
    "\n",
    "\n",
    "### Algorytm eleminiacji metodą Gaussa\n",
    "\n",
    "Idea jest taka, że algorytm to tak naprawdę ciąg podciągów, gdzie każdy podciąg ma rerezentuje przemnożenie i odjęcie $i$-tego wiersza od $k$-tego wiersza (co oczywiście prowadzi do wyzerowania). Każdy taki podciąg ma postać:\n",
    "\n",
    "$c_{k,i} = A_{k,i}, B_{k,i,i}, C_{k,i,i}, \\ldots, B_{k,m,i}, C_{k,m,i}$\n",
    "\n",
    "Cały więc algorytm to po prostu:\n",
    "\n",
    "$c_{2,1}, \\ldots, c_{n,1}, c_{3,2}, \\ldots, c_{n,2}, \\ldots, c_{n,n-1}$\n",
    "\n",
    "\n",
    "### Graf Diekerta\n",
    "\n",
    "![Graf Diekerta dla przykładu 1](diekert.png)\n",
    "\n",
    "### Postać normalna Foaty\n",
    "Wiemy, że $i = 1, ..., n - 1 $, a więc możemy zdefiniować:\n",
    "\n",
    "$F_{A_{i}} = \\{A_{k,i}: k=i+1,\\dots,n \\}$\n",
    "\n",
    "<br>\n",
    "\n",
    "$F_{B_{i}} = \\{B_{k,j,i}: j = i, \\dots, m;\\; k = i+1, \\dots, n \\}$\n",
    "\n",
    "<br>\n",
    "\n",
    "$F_{C_{i}} = \\{C_{k,j,i}: j = i, \\dots, m;\\; k = i+1, \\dots, n \\}$\n",
    "\n",
    "<br>\n",
    "\n",
    "Dalej, postać normalna Foaty to:\n",
    "\n",
    "$ [F_{A_{1}}][F_{B_{1}}][F_{C_{1}}][F_{A_{2}}][F_{B_{2}}][F_{C_{2}}]\\dots[F_{A_{n-1}}][F_{B_{n-1}}][F_{C_{n-1}}] $\n",
    "\n",
    "<br />"
   ]
  },
  {
   "cell_type": "markdown",
   "id": "7da81fdb258bc489",
   "metadata": {
    "collapsed": false
   },
   "source": [
    "## 2. Implementacja\n",
    "\n",
    "W tej części zajmiemy się już faktyczną implementacją algorytmu eliminacji metodą Gaussa.\n",
    "\n",
    "Przykład pliku wejściowego:\n",
    "\n",
    "```\n",
    "3\n",
    "2.0 1.0 3.0\n",
    "4.0 3.0 8.0\n",
    "6.0 5.0 16.0\n",
    "6.0 15.0 27.0\n",
    "```\n",
    "\n",
    "Zakładamy, że ostatni wiersz to wektor wyrazów wolnych."
   ]
  },
  {
   "cell_type": "markdown",
   "id": "7f035286efde1130",
   "metadata": {
    "collapsed": false
   },
   "source": [
    "Funkcja do wczytania pliku"
   ]
  },
  {
   "cell_type": "code",
   "execution_count": 1,
   "id": "1cff50317dc66344",
   "metadata": {
    "ExecuteTime": {
     "end_time": "2024-12-15T18:27:19.134344Z",
     "start_time": "2024-12-15T18:27:19.130743Z"
    },
    "collapsed": false
   },
   "outputs": [],
   "source": [
    "def read_input_file(file_name):\n",
    "    \"\"\"Wczytuje wymiar i macierz rozszerzoną M z pliku.\"\"\"\n",
    "    with open(file_name, 'r') as file:\n",
    "        dim = int(file.readline())\n",
    "\n",
    "        matrix = []\n",
    "        for i in range(dim):\n",
    "            matrix.append(list(map(float, file.readline().split())))\n",
    "\n",
    "        rhs = list(map(float, file.readline().split()))\n",
    "        for i in range(dim):\n",
    "            matrix[i].append(rhs[i])\n",
    "\n",
    "        return dim, matrix"
   ]
  },
  {
   "cell_type": "markdown",
   "id": "e33fdef2c8cd95ac",
   "metadata": {
    "collapsed": false
   },
   "source": [
    "Funkcje odpowiadające operacjom"
   ]
  },
  {
   "cell_type": "code",
   "execution_count": 2,
   "id": "3af11584423c0fbf",
   "metadata": {
    "ExecuteTime": {
     "end_time": "2024-12-15T18:27:19.137262Z",
     "start_time": "2024-12-15T18:27:19.135434Z"
    },
    "collapsed": false
   },
   "outputs": [],
   "source": [
    "def compute_A(matrix, k, i):\n",
    "    \"\"\"Operacja A_k_i: Obliczenie współczynnika skalującego m[k][i].\"\"\"\n",
    "    return matrix[k][i] / matrix[i][i]\n",
    "\n",
    "\n",
    "def compute_B(matrix, m, i, k, j):\n",
    "    \"\"\"Operacja B_k_j_i: Obliczenie wartości pośredniej n[k][j][i].\"\"\"\n",
    "    return matrix[i][j] * m\n",
    "\n",
    "\n",
    "def compute_C(matrix, k, j, n):\n",
    "    \"\"\"Operacja C_k_j_i: Aktualizacja wartości macierzy.\"\"\"\n",
    "    matrix[k][j] -= n"
   ]
  },
  {
   "cell_type": "markdown",
   "id": "4f331b11342b18ee",
   "metadata": {
    "collapsed": false
   },
   "source": [
    "Funkcje obliczające w obrębie klasy Foaty, wykorzystujące pule wątków"
   ]
  },
  {
   "cell_type": "code",
   "execution_count": 3,
   "id": "7369f04e711901d9",
   "metadata": {
    "ExecuteTime": {
     "end_time": "2024-12-15T18:27:19.144153Z",
     "start_time": "2024-12-15T18:27:19.141694Z"
    },
    "collapsed": false
   },
   "outputs": [],
   "source": [
    "from concurrent.futures import ThreadPoolExecutor\n",
    "\n",
    "\n",
    "def execute_FA_parallel(matrix, pivot_row, dim):\n",
    "    \"\"\"Klasa Foaty FA: Obliczanie współczynników skalujących z równoległością.\"\"\"\n",
    "    m = [0] * dim\n",
    "\n",
    "    def compute(k):\n",
    "        m[k] = compute_A(matrix, k, pivot_row)\n",
    "\n",
    "    with ThreadPoolExecutor() as executor:\n",
    "        executor.map(compute, range(pivot_row + 1, dim))\n",
    "\n",
    "    return m\n",
    "\n",
    "\n",
    "def execute_FB_parallel(matrix, m, pivot_row, dim):\n",
    "    \"\"\"Klasa Foaty FB: Obliczanie wartości pośrednich z równoległością.\"\"\"\n",
    "    n = [[0] * (dim + 1) for _ in range(dim)]\n",
    "\n",
    "    def compute(k, j):\n",
    "        n[k][j] = compute_B(matrix, m[k], pivot_row, k, j)\n",
    "\n",
    "    with ThreadPoolExecutor() as executor:\n",
    "        # Tworzymy pary (k, j) dla każdej kombinacji wierszy i kolumn\n",
    "        executor.map(lambda args: compute(*args),\n",
    "                     ((k, j) for k in range(pivot_row + 1, dim)\n",
    "                              for j in range(pivot_row + 1, dim + 1)))\n",
    "\n",
    "    return n\n",
    "\n",
    "\n",
    "def execute_FC_parallel(matrix, n, pivot_row, dim):\n",
    "    \"\"\"Klasa Foaty FC: Aktualizacja wartości macierzy z równoległością.\"\"\"\n",
    "    def update(k, j):\n",
    "        compute_C(matrix, k, j, n[k][j])\n",
    "\n",
    "    with ThreadPoolExecutor() as executor:\n",
    "        # Tworzymy pary (k, j) dla każdej kombinacji wierszy i kolumn\n",
    "        executor.map(lambda args: update(*args),\n",
    "                     ((k, j) for k in range(pivot_row + 1, dim)\n",
    "                              for j in range(pivot_row + 1, dim + 1)))"
   ]
  },
  {
   "cell_type": "markdown",
   "id": "c010dc5bbe992f7c",
   "metadata": {
    "collapsed": false
   },
   "source": [
    "Funkcja eliminacji Gaussa"
   ]
  },
  {
   "cell_type": "code",
   "execution_count": 4,
   "id": "e40987fa52031a43",
   "metadata": {
    "ExecuteTime": {
     "end_time": "2024-12-15T18:27:19.152239Z",
     "start_time": "2024-12-15T18:27:19.144696Z"
    },
    "collapsed": false
   },
   "outputs": [],
   "source": [
    "def gauss_elimination_parallel(matrix, dim):\n",
    "    \"\"\"Eliminacja Gaussa z równoległością: Redukuje macierz do postaci trójkątnej górnej.\"\"\"\n",
    "    for pivot_row in range(dim - 1):\n",
    "        # Klasa FA: Obliczamy współczynniki skalujące\n",
    "        m = execute_FA_parallel(matrix, pivot_row, dim)\n",
    "\n",
    "        # Klasa FB: Obliczamy wartości pośrednie\n",
    "        n = execute_FB_parallel(matrix, m, pivot_row, dim)\n",
    "\n",
    "        # Klasa FC: Aktualizujemy macierz\n",
    "        execute_FC_parallel(matrix, n, pivot_row, dim)"
   ]
  },
  {
   "cell_type": "markdown",
   "id": "585a85ba30ec8e35",
   "metadata": {
    "collapsed": false
   },
   "source": [
    "Funkcja rozwiązująca układ równań"
   ]
  },
  {
   "cell_type": "code",
   "execution_count": 5,
   "id": "ac60081af073afe2",
   "metadata": {
    "ExecuteTime": {
     "end_time": "2024-12-15T18:27:19.166142Z",
     "start_time": "2024-12-15T18:27:19.149936Z"
    },
    "collapsed": false
   },
   "outputs": [],
   "source": [
    "def backward_substitution(matrix, dim):\n",
    "    \"\"\"Rozwiązuje układ równań po eliminacji Gaussa.\"\"\"\n",
    "    \n",
    "    # Tablica wyników\n",
    "    x = [0.0] * dim\n",
    "\n",
    "    # Iterujemy od ostatniego wiersza do pierwszego\n",
    "    for i in range(dim - 1, -1, -1):\n",
    "        # Rozpoczynamy od wyrazu wolnego (ostatnia kolumna)\n",
    "        rhs = matrix[i][dim]\n",
    "\n",
    "        # Odejmujemy iloczyny elementów macierzy i wcześniejszych wyników x\n",
    "        for j in range(i + 1, dim):\n",
    "            rhs -= matrix[i][j] * x[j]\n",
    "\n",
    "        # Dzielimy przez współczynnik na głównej przekątnej\n",
    "        x[i] = rhs / matrix[i][i]\n",
    "\n",
    "    return x\n"
   ]
  },
  {
   "cell_type": "markdown",
   "id": "491f73a20b766379",
   "metadata": {
    "collapsed": false
   },
   "source": [
    "Funkcja główna"
   ]
  },
  {
   "cell_type": "code",
   "execution_count": 6,
   "id": "454351da5235b6e",
   "metadata": {
    "ExecuteTime": {
     "end_time": "2024-12-15T18:27:19.167878Z",
     "start_time": "2024-12-15T18:27:19.152227Z"
    },
    "collapsed": false
   },
   "outputs": [],
   "source": [
    "def gauss_solver(input_file, output_file):\n",
    "    # Wczytujemy macierz rozszerzoną M\n",
    "    dim, matrix = read_input_file(input_file)\n",
    "\n",
    "    # Eliminacja Gaussa\n",
    "    gauss_elimination_parallel(matrix, dim)\n",
    "\n",
    "    # Rozwiązanie układu\n",
    "    solution = backward_substitution(matrix, dim)\n",
    "\n",
    "    write_output_file(output_file, dim, solution)"
   ]
  },
  {
   "cell_type": "markdown",
   "id": "b748fce729ca17ad",
   "metadata": {
    "collapsed": false
   },
   "source": [
    "Funkcja do zapisu wyniku"
   ]
  },
  {
   "cell_type": "code",
   "execution_count": 7,
   "id": "e837ea0cf75d379f",
   "metadata": {
    "ExecuteTime": {
     "end_time": "2024-12-15T18:27:19.168124Z",
     "start_time": "2024-12-15T18:27:19.155575Z"
    },
    "collapsed": false
   },
   "outputs": [],
   "source": [
    "def write_output_file(output_file, dim, solution):\n",
    "    \"\"\"Zapisuje wynik eliminacji Gaussa do pliku wyjściowego.\"\"\"\n",
    "    with open(output_file, 'w') as file:\n",
    "        file.write(f\"{dim}\\n\")\n",
    "        print(f\"{dim}\\n\")\n",
    "\n",
    "        for i in range(dim):\n",
    "            row = [f\"{1.0 if i == j else 0.0:.1f}\" for j in range(dim)]\n",
    "            file.write(\" \".join(row) + \"\\n\")\n",
    "            print(\" \".join(row) + \"\\n\")\n",
    "\n",
    "        file.write(\" \".join([f\"{x}\" for x in solution]) + \"\\n\")\n",
    "        print(\" \".join([f\"{x}\" for x in solution]) + \"\\n\")"
   ]
  },
  {
   "cell_type": "markdown",
   "id": "1b103042e5ddd230",
   "metadata": {
    "collapsed": false
   },
   "source": [
    "Przykładowe użycie"
   ]
  },
  {
   "cell_type": "code",
   "execution_count": 8,
   "id": "66bf71e0a3bdca86",
   "metadata": {
    "ExecuteTime": {
     "end_time": "2024-12-15T18:27:19.198991Z",
     "start_time": "2024-12-15T18:27:19.158596Z"
    },
    "collapsed": false
   },
   "outputs": [
    {
     "name": "stdout",
     "output_type": "stream",
     "text": [
      "Test case 1:\n",
      "3\n",
      "\n",
      "1.0 0.0 0.0\n",
      "\n",
      "0.0 1.0 0.0\n",
      "\n",
      "0.0 0.0 1.0\n",
      "\n",
      "1.0 1.0 1.0\n",
      "\n",
      "Test case 2:\n",
      "15\n",
      "\n",
      "1.0 0.0 0.0 0.0 0.0 0.0 0.0 0.0 0.0 0.0 0.0 0.0 0.0 0.0 0.0\n",
      "\n",
      "0.0 1.0 0.0 0.0 0.0 0.0 0.0 0.0 0.0 0.0 0.0 0.0 0.0 0.0 0.0\n",
      "\n",
      "0.0 0.0 1.0 0.0 0.0 0.0 0.0 0.0 0.0 0.0 0.0 0.0 0.0 0.0 0.0\n",
      "\n",
      "0.0 0.0 0.0 1.0 0.0 0.0 0.0 0.0 0.0 0.0 0.0 0.0 0.0 0.0 0.0\n",
      "\n",
      "0.0 0.0 0.0 0.0 1.0 0.0 0.0 0.0 0.0 0.0 0.0 0.0 0.0 0.0 0.0\n",
      "\n",
      "0.0 0.0 0.0 0.0 0.0 1.0 0.0 0.0 0.0 0.0 0.0 0.0 0.0 0.0 0.0\n",
      "\n",
      "0.0 0.0 0.0 0.0 0.0 0.0 1.0 0.0 0.0 0.0 0.0 0.0 0.0 0.0 0.0\n",
      "\n",
      "0.0 0.0 0.0 0.0 0.0 0.0 0.0 1.0 0.0 0.0 0.0 0.0 0.0 0.0 0.0\n",
      "\n",
      "0.0 0.0 0.0 0.0 0.0 0.0 0.0 0.0 1.0 0.0 0.0 0.0 0.0 0.0 0.0\n",
      "\n",
      "0.0 0.0 0.0 0.0 0.0 0.0 0.0 0.0 0.0 1.0 0.0 0.0 0.0 0.0 0.0\n",
      "\n",
      "0.0 0.0 0.0 0.0 0.0 0.0 0.0 0.0 0.0 0.0 1.0 0.0 0.0 0.0 0.0\n",
      "\n",
      "0.0 0.0 0.0 0.0 0.0 0.0 0.0 0.0 0.0 0.0 0.0 1.0 0.0 0.0 0.0\n",
      "\n",
      "0.0 0.0 0.0 0.0 0.0 0.0 0.0 0.0 0.0 0.0 0.0 0.0 1.0 0.0 0.0\n",
      "\n",
      "0.0 0.0 0.0 0.0 0.0 0.0 0.0 0.0 0.0 0.0 0.0 0.0 0.0 1.0 0.0\n",
      "\n",
      "0.0 0.0 0.0 0.0 0.0 0.0 0.0 0.0 0.0 0.0 0.0 0.0 0.0 0.0 1.0\n",
      "\n",
      "-0.5535598625142886 -0.050676511140709785 -0.3473165237239885 -1.6542570703056738 1.2551143962442715 -0.3814515523144337 -0.9539278207715061 -0.3477037633561355 -0.14874588242949022 0.6463610027084782 1.1471447557030474 -0.06697242621464991 0.6037270621243762 0.8729251917018003 0.6301394487164572\n"
     ]
    }
   ],
   "source": [
    "test_cases = (\n",
    "    (\"input.txt\", \"output.txt\"),\n",
    "    (\"input2.txt\", \"output2.txt\"),\n",
    ")\n",
    "\n",
    "for i in range(len(test_cases)):\n",
    "    print(f\"Test case {i + 1}:\")\n",
    "    gauss_solver(*test_cases[i])"
   ]
  },
  {
   "cell_type": "raw",
   "id": "9e480df5c7a8a7ec",
   "metadata": {
    "collapsed": false
   },
   "source": []
  }
 ],
 "metadata": {
  "kernelspec": {
   "display_name": "Python 3 (ipykernel)",
   "language": "python",
   "name": "python3"
  }
 },
 "nbformat": 4,
 "nbformat_minor": 5
}
