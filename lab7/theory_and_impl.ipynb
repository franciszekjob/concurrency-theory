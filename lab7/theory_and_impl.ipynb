{
 "cells": [
  {
   "cell_type": "markdown",
   "source": [
    "# Sprawozdanie ze współbieżnej eliminacji metodą Gaussa\n",
    "\n",
    "## Franciszek Job, 16.12.2024\n",
    "\n",
    "<!-- TOC -->\n",
    "\n",
    "- [1. Część teoretyczna](#1-czesc-teoretyczna)\n",
    "- [2. Implementacja](#2-implementacja)\n",
    "\n",
    "<!-- /TOC -->"
   ],
   "metadata": {
    "collapsed": false
   },
   "id": "2ab43a65624a2423"
  },
  {
   "cell_type": "markdown",
   "source": [
    "## 1. Część teoretyczna\n",
    "\n",
    "### Macierz\n",
    "\n",
    "Załóżmy, że mamy następujący układ równań:\n",
    "\n",
    "$$\n",
    "\\begin{bmatrix}\n",
    "    M_1_1 & M_1_2 & M_1_3 & ... & M_1_n \\\\\n",
    "    M_2_1 & M_2_2 & M_2_3 & ... & M_2_n \\\\\n",
    "    M_3_1 & M_3_2 & M_3_3 & ... & M_3_n \\\\\n",
    "    ... & ... & ... & ... & ... \\\\\n",
    "    M_n_1 & M_n_2 & M_n_3 & ... & M_n_n \\\\\n",
    "\\end{bmatrix}\n",
    "\n",
    "\\begin{bmatrix}\n",
    "    x_1 \\\\\n",
    "    x_2 \\\\\n",
    "    x_3 \\\\\n",
    "    ... \\\\\n",
    "    x_n \\\\\n",
    "\\end{bmatrix}\n",
    "\n",
    "=\n",
    "\n",
    "\\begin{bmatrix}\n",
    "    y_1 \\\\\n",
    "    y_2 \\\\\n",
    "    y_3 \\\\\n",
    "    ... \\\\\n",
    "    y_n \\\\\n",
    "\\end{bmatrix}\n",
    "\n",
    "$$\n",
    "\n",
    "Głównie będziemy się niżej zajmować macierzą $M$.\n",
    "\n",
    "### Niepodzielne operacje\n",
    "\n",
    "Teraz możemy zdefiniować niepodzielne operacje na jej elementach.\n",
    "\n",
    "$A_k_i$ -> $M_k_i / M_i_i = m_k_i$  (dzielenie elementu z $k$-tego wiersza przez element z $i$-tego wiersza, w kolumnie $i$)\n",
    "\n",
    "<!-- TODO: Zapytac czy kolumna j jest ok -->\n",
    "$B_k_j_i$ -> $M_i_j * m_k_i = n_k_j_i$ (mnożenie elementu z $i$-tego wiersza przez $m_k_i$ w kolumnie $j$)\n",
    "\n",
    "$C_k_j_i$ -> $M_k_j - n_k_j_i = M_k_j$ (odejmowanie $n_k_j_i$ od elementu z $k$-tego wiersza w kolumnie $j$)\n",
    "\n",
    "### Alfabet (w sensie teorii śladów)\n",
    "\n",
    "Następnie definijemy sobie alfabet (w sensie teorii śladów). Jest on sumą trzech alfabetów, odpowiednio dla operacji $A$, $B$ i $C$.\n",
    "\n",
    "W takim razie:\n",
    "\n",
    "$ \\Sigma_{A} = \\{ A_k_i \\} $ takie, że $ i \\in \\{ 1, ..., n - 1\\} $ oraz $ k \\in \\{ i+1, ..., n - 1 \\} $\n",
    "\n",
    "$ \\Sigma_{B} = \\{ B_k_j_i \\} $ takie, że $ i \\in \\{ 1, ..., n - 1\\} $ oraz $ j \\in \\{ i, ..., m \\} $ oraz $ k \\in \\{ i+1, ..., n - 1 \\} $\n",
    "\n",
    "$ \\Sigma_{C} = \\{ C_k_j_i \\} $ takie, że $ i \\in \\{ 1, ..., n - 1\\} $ oraz $ j \\in \\{ i, ..., m \\} $ oraz $ k \\in \\{ i+1, ..., n - 1 \\} $\n",
    "\n",
    "Cały alfabet:\n",
    "\n",
    "$ \\Sigma = \\Sigma_{A} \\cup \\Sigma_{B} \\cup \\Sigma_{C} $\n",
    "\n",
    "### Relacje zależności/niezależności\n",
    "\n",
    "Definiujemy relację zależności i niezależności:\n",
    "\n",
    "$ D_1 = (A_k_i, B_k_j_i) $ <br>\n",
    "$ D_2 = (B_k_j_i, C_k_j_i) $ <br>\n",
    "$ D_3 = (A_k_{c}_j_{c}_i_{c}, A_k_{a}_i_{a}) $ <br>\n",
    "$ D_4 = (A_k_{c}_j_{c}_i_{c}, B_k_{b}_j_{b}_i_{b}) \\wedge k_c = i_b $ <br>\n",
    "$ D_5 = (C_k_j_i_{C1}, C_k_j_i_{C2}) $ <br>\n",
    "$ D = sym(D_1 \\cup D_2 \\cup D_3 \\cup D_4 \\cup D_5)^+ \\cup I_{\\Sigma} $\n",
    "$ I = \\Sigma^2 - D $\n",
    "\n",
    "\n",
    "### Algorytm eleminiacji metodą Gaussa\n",
    "\n",
    "Idea jest taka, że algorytm to tak naprawdę ciąg podciągów, gdzie każdy podciąg ma rerezentuje przemnożenie i odjęcie $i$-tego wiersza od $k$-tego wiersza (co oczywiście prowadzi do wyzerowania). Każdy taki podciąg ma postać:\n",
    "\n",
    "$ c_k_i = A_k_i, B_k_i_i, C_k_i_i,..., B_k_m_i, C_k_m_i $\n",
    "\n",
    "Cały więc algorytm to po prostu:\n",
    "\n",
    "$ c_2_1, ..., c_n_1, c_3_2, ..., c_n_2, ..., c_n_{n-1} $\n",
    "\n",
    "### Graf Diekerta\n",
    "\n",
    "![Graf Diekerta dla przykładu 1](diekert.png)\n",
    "\n",
    "### Postać normalna Foaty\n",
    "Wiemy, że $i = 1, ..., n - 1 $, a więc możemy zdefiniować:\n",
    "\n",
    "$F_{A_{i}} = \\{A_{k,i}: k=i+1,\\dots,n \\}$\n",
    "\n",
    "<br>\n",
    "\n",
    "$F_{B_{i}} = \\{B_{k,j,i}: j = i, \\dots, m;\\; k = i+1, \\dots, n \\}$\n",
    "\n",
    "<br>\n",
    "$F_{C_{i}} = \\{C_{k,j,i}: j = i, \\dots, m;\\; k = i+1, \\dots, n \\}$\n",
    "\n",
    "<br>\n",
    "\n",
    "Dalej, postać normalna Foaty to:\n",
    "\n",
    "$ [F_{A_{1}}][F_{B_{1}}][F_{C_{1}}][F_{A_{2}}][F_{B_{2}}][F_{C_{2}}]\\dots[F_{A_{n-1}}][F_{B_{n-1}}][F_{C_{n-1}}] $\n",
    "\n",
    "<br />"
   ],
   "metadata": {
    "collapsed": false
   },
   "id": "8b6d7f7463119f8"
  },
  {
   "cell_type": "markdown",
   "source": [
    "## 2. Implementacja\n",
    "\n",
    "W tej części zajmiemy się już faktyczną implementacją algorytmu eliminacji metodą Gaussa.\n",
    "\n",
    "Przykład pliku wejściowego:\n",
    "\n",
    "```\n",
    "3\n",
    "2.0 1.0 3.0\n",
    "4.0 3.0 8.0\n",
    "6.0 5.0 16.0\n",
    "6.0 15.0 27.0\n",
    "```\n",
    "\n",
    "Zakładamy, że ostatni wiersz to wektor wyrazów wolnych."
   ],
   "metadata": {
    "collapsed": false
   },
   "id": "7da81fdb258bc489"
  },
  {
   "cell_type": "markdown",
   "source": [
    "Funkcja do wczytania pliku"
   ],
   "metadata": {
    "collapsed": false
   },
   "id": "7f035286efde1130"
  },
  {
   "cell_type": "code",
   "outputs": [],
   "source": [
    "def read_input_file(file_name):\n",
    "    \"\"\"Wczytuje wymiar i macierz rozszerzoną M z pliku.\"\"\"\n",
    "    with open(file_name, 'r') as file:\n",
    "        dim = int(file.readline())\n",
    "\n",
    "        matrix = []\n",
    "        for i in range(dim):\n",
    "            matrix.append(list(map(float, file.readline().split())))\n",
    "\n",
    "        rhs = list(map(float, file.readline().split()))\n",
    "        for i in range(dim):\n",
    "            matrix[i].append(rhs[i])\n",
    "\n",
    "        return dim, matrix"
   ],
   "metadata": {
    "collapsed": false,
    "ExecuteTime": {
     "end_time": "2024-12-15T18:27:19.134344Z",
     "start_time": "2024-12-15T18:27:19.130743Z"
    }
   },
   "id": "1cff50317dc66344",
   "execution_count": 1
  },
  {
   "cell_type": "markdown",
   "source": [
    "Funkcje odpowiadające operacjom"
   ],
   "metadata": {
    "collapsed": false
   },
   "id": "e33fdef2c8cd95ac"
  },
  {
   "cell_type": "code",
   "outputs": [],
   "source": [
    "def compute_A(matrix, k, i):\n",
    "    \"\"\"Operacja A_k_i: Obliczenie współczynnika skalującego m[k][i].\"\"\"\n",
    "    return matrix[k][i] / matrix[i][i]\n",
    "\n",
    "\n",
    "def compute_B(matrix, m, i, k, j):\n",
    "    \"\"\"Operacja B_k_j_i: Obliczenie wartości pośredniej n[k][j][i].\"\"\"\n",
    "    return matrix[i][j] * m\n",
    "\n",
    "\n",
    "def compute_C(matrix, k, j, n):\n",
    "    \"\"\"Operacja C_k_j_i: Aktualizacja wartości macierzy.\"\"\"\n",
    "    matrix[k][j] -= n"
   ],
   "metadata": {
    "collapsed": false,
    "ExecuteTime": {
     "end_time": "2024-12-15T18:27:19.137262Z",
     "start_time": "2024-12-15T18:27:19.135434Z"
    }
   },
   "id": "3af11584423c0fbf",
   "execution_count": 2
  },
  {
   "cell_type": "markdown",
   "source": [
    "Funkcje obliczające w obrębie klasy Foaty, wykorzystujące pule wątków"
   ],
   "metadata": {
    "collapsed": false
   },
   "id": "4f331b11342b18ee"
  },
  {
   "cell_type": "code",
   "outputs": [],
   "source": [
    "from concurrent.futures import ThreadPoolExecutor\n",
    "\n",
    "\n",
    "def execute_FA_parallel(matrix, pivot_row, dim):\n",
    "    \"\"\"Klasa Foaty FA: Obliczanie współczynników skalujących z równoległością.\"\"\"\n",
    "    m = [0] * dim\n",
    "\n",
    "    def compute(k):\n",
    "        m[k] = compute_A(matrix, k, pivot_row)\n",
    "\n",
    "    with ThreadPoolExecutor() as executor:\n",
    "        executor.map(compute, range(pivot_row + 1, dim))\n",
    "\n",
    "    return m\n",
    "\n",
    "\n",
    "def execute_FB_parallel(matrix, m, pivot_row, dim):\n",
    "    \"\"\"Klasa Foaty FB: Obliczanie wartości pośrednich z równoległością.\"\"\"\n",
    "    n = [[0] * (dim + 1) for _ in range(dim)]\n",
    "\n",
    "    def compute(k, j):\n",
    "        n[k][j] = compute_B(matrix, m[k], pivot_row, k, j)\n",
    "\n",
    "    with ThreadPoolExecutor() as executor:\n",
    "        # Tworzymy pary (k, j) dla każdej kombinacji wierszy i kolumn\n",
    "        executor.map(lambda args: compute(*args),\n",
    "                     ((k, j) for k in range(pivot_row + 1, dim)\n",
    "                              for j in range(pivot_row + 1, dim + 1)))\n",
    "\n",
    "    return n\n",
    "\n",
    "\n",
    "def execute_FC_parallel(matrix, n, pivot_row, dim):\n",
    "    \"\"\"Klasa Foaty FC: Aktualizacja wartości macierzy z równoległością.\"\"\"\n",
    "    def update(k, j):\n",
    "        compute_C(matrix, k, j, n[k][j])\n",
    "\n",
    "    with ThreadPoolExecutor() as executor:\n",
    "        # Tworzymy pary (k, j) dla każdej kombinacji wierszy i kolumn\n",
    "        executor.map(lambda args: update(*args),\n",
    "                     ((k, j) for k in range(pivot_row + 1, dim)\n",
    "                              for j in range(pivot_row + 1, dim + 1)))"
   ],
   "metadata": {
    "collapsed": false,
    "ExecuteTime": {
     "end_time": "2024-12-15T18:27:19.144153Z",
     "start_time": "2024-12-15T18:27:19.141694Z"
    }
   },
   "id": "7369f04e711901d9",
   "execution_count": 3
  },
  {
   "cell_type": "markdown",
   "source": [
    "Funkcja eliminacji Gaussa"
   ],
   "metadata": {
    "collapsed": false
   },
   "id": "c010dc5bbe992f7c"
  },
  {
   "cell_type": "code",
   "outputs": [],
   "source": [
    "def gauss_elimination_parallel(matrix, dim):\n",
    "    \"\"\"Eliminacja Gaussa z równoległością: Redukuje macierz do postaci trójkątnej górnej.\"\"\"\n",
    "    for pivot_row in range(dim - 1):\n",
    "        # Klasa FA: Obliczamy współczynniki skalujące\n",
    "        m = execute_FA_parallel(matrix, pivot_row, dim)\n",
    "\n",
    "        # Klasa FB: Obliczamy wartości pośrednie\n",
    "        n = execute_FB_parallel(matrix, m, pivot_row, dim)\n",
    "\n",
    "        # Klasa FC: Aktualizujemy macierz\n",
    "        execute_FC_parallel(matrix, n, pivot_row, dim)"
   ],
   "metadata": {
    "collapsed": false,
    "ExecuteTime": {
     "end_time": "2024-12-15T18:27:19.152239Z",
     "start_time": "2024-12-15T18:27:19.144696Z"
    }
   },
   "id": "e40987fa52031a43",
   "execution_count": 4
  },
  {
   "cell_type": "markdown",
   "source": [
    "Funkcja rozwiązująca układ równań"
   ],
   "metadata": {
    "collapsed": false
   },
   "id": "585a85ba30ec8e35"
  },
  {
   "cell_type": "code",
   "outputs": [],
   "source": [
    "def backward_substitution(matrix, dim):\n",
    "    \"\"\"Rozwiązuje układ równań po eliminacji Gaussa.\"\"\"\n",
    "    \n",
    "    # Tablica wyników\n",
    "    x = [0.0] * dim\n",
    "\n",
    "    # Iterujemy od ostatniego wiersza do pierwszego\n",
    "    for i in range(dim - 1, -1, -1):\n",
    "        # Rozpoczynamy od wyrazu wolnego (ostatnia kolumna)\n",
    "        rhs = matrix[i][dim]\n",
    "\n",
    "        # Odejmujemy iloczyny elementów macierzy i wcześniejszych wyników x\n",
    "        for j in range(i + 1, dim):\n",
    "            rhs -= matrix[i][j] * x[j]\n",
    "\n",
    "        # Dzielimy przez współczynnik na głównej przekątnej\n",
    "        x[i] = rhs / matrix[i][i]\n",
    "\n",
    "    return x\n"
   ],
   "metadata": {
    "collapsed": false,
    "ExecuteTime": {
     "end_time": "2024-12-15T18:27:19.166142Z",
     "start_time": "2024-12-15T18:27:19.149936Z"
    }
   },
   "id": "ac60081af073afe2",
   "execution_count": 5
  },
  {
   "cell_type": "markdown",
   "source": [
    "Funkcja główna"
   ],
   "metadata": {
    "collapsed": false
   },
   "id": "491f73a20b766379"
  },
  {
   "cell_type": "code",
   "outputs": [],
   "source": [
    "def gauss_solver(input_file, output_file):\n",
    "    # Wczytujemy macierz rozszerzoną M\n",
    "    dim, matrix = read_input_file(input_file)\n",
    "\n",
    "    # Eliminacja Gaussa\n",
    "    gauss_elimination_parallel(matrix, dim)\n",
    "\n",
    "    # Rozwiązanie układu\n",
    "    solution = backward_substitution(matrix, dim)\n",
    "\n",
    "    write_output_file(output_file, dim, solution)"
   ],
   "metadata": {
    "collapsed": false,
    "ExecuteTime": {
     "end_time": "2024-12-15T18:27:19.167878Z",
     "start_time": "2024-12-15T18:27:19.152227Z"
    }
   },
   "id": "454351da5235b6e",
   "execution_count": 6
  },
  {
   "cell_type": "markdown",
   "source": [
    "Funkcja do zapisu wyniku"
   ],
   "metadata": {
    "collapsed": false
   },
   "id": "b748fce729ca17ad"
  },
  {
   "cell_type": "code",
   "outputs": [],
   "source": [
    "def write_output_file(output_file, dim, solution):\n",
    "    \"\"\"Zapisuje wynik eliminacji Gaussa do pliku wyjściowego.\"\"\"\n",
    "    with open(output_file, 'w') as file:\n",
    "        file.write(f\"{dim}\\n\")\n",
    "        print(f\"{dim}\\n\")\n",
    "\n",
    "        for i in range(dim):\n",
    "            row = [f\"{1.0 if i == j else 0.0:.1f}\" for j in range(dim)]\n",
    "            file.write(\" \".join(row) + \"\\n\")\n",
    "            print(\" \".join(row) + \"\\n\")\n",
    "\n",
    "        file.write(\" \".join([f\"{x}\" for x in solution]) + \"\\n\")\n",
    "        print(\" \".join([f\"{x}\" for x in solution]) + \"\\n\")"
   ],
   "metadata": {
    "collapsed": false,
    "ExecuteTime": {
     "end_time": "2024-12-15T18:27:19.168124Z",
     "start_time": "2024-12-15T18:27:19.155575Z"
    }
   },
   "id": "e837ea0cf75d379f",
   "execution_count": 7
  },
  {
   "cell_type": "markdown",
   "source": [
    "Przykładowe użycie"
   ],
   "metadata": {
    "collapsed": false
   },
   "id": "1b103042e5ddd230"
  },
  {
   "cell_type": "code",
   "outputs": [
    {
     "name": "stdout",
     "output_type": "stream",
     "text": [
      "Test case 1:\n",
      "3\n",
      "\n",
      "1.0 0.0 0.0\n",
      "\n",
      "0.0 1.0 0.0\n",
      "\n",
      "0.0 0.0 1.0\n",
      "\n",
      "1.0 1.0 1.0\n",
      "\n",
      "Test case 2:\n",
      "15\n",
      "\n",
      "1.0 0.0 0.0 0.0 0.0 0.0 0.0 0.0 0.0 0.0 0.0 0.0 0.0 0.0 0.0\n",
      "\n",
      "0.0 1.0 0.0 0.0 0.0 0.0 0.0 0.0 0.0 0.0 0.0 0.0 0.0 0.0 0.0\n",
      "\n",
      "0.0 0.0 1.0 0.0 0.0 0.0 0.0 0.0 0.0 0.0 0.0 0.0 0.0 0.0 0.0\n",
      "\n",
      "0.0 0.0 0.0 1.0 0.0 0.0 0.0 0.0 0.0 0.0 0.0 0.0 0.0 0.0 0.0\n",
      "\n",
      "0.0 0.0 0.0 0.0 1.0 0.0 0.0 0.0 0.0 0.0 0.0 0.0 0.0 0.0 0.0\n",
      "\n",
      "0.0 0.0 0.0 0.0 0.0 1.0 0.0 0.0 0.0 0.0 0.0 0.0 0.0 0.0 0.0\n",
      "\n",
      "0.0 0.0 0.0 0.0 0.0 0.0 1.0 0.0 0.0 0.0 0.0 0.0 0.0 0.0 0.0\n",
      "\n",
      "0.0 0.0 0.0 0.0 0.0 0.0 0.0 1.0 0.0 0.0 0.0 0.0 0.0 0.0 0.0\n",
      "\n",
      "0.0 0.0 0.0 0.0 0.0 0.0 0.0 0.0 1.0 0.0 0.0 0.0 0.0 0.0 0.0\n",
      "\n",
      "0.0 0.0 0.0 0.0 0.0 0.0 0.0 0.0 0.0 1.0 0.0 0.0 0.0 0.0 0.0\n",
      "\n",
      "0.0 0.0 0.0 0.0 0.0 0.0 0.0 0.0 0.0 0.0 1.0 0.0 0.0 0.0 0.0\n",
      "\n",
      "0.0 0.0 0.0 0.0 0.0 0.0 0.0 0.0 0.0 0.0 0.0 1.0 0.0 0.0 0.0\n",
      "\n",
      "0.0 0.0 0.0 0.0 0.0 0.0 0.0 0.0 0.0 0.0 0.0 0.0 1.0 0.0 0.0\n",
      "\n",
      "0.0 0.0 0.0 0.0 0.0 0.0 0.0 0.0 0.0 0.0 0.0 0.0 0.0 1.0 0.0\n",
      "\n",
      "0.0 0.0 0.0 0.0 0.0 0.0 0.0 0.0 0.0 0.0 0.0 0.0 0.0 0.0 1.0\n",
      "\n",
      "-0.5535598625142886 -0.050676511140709785 -0.3473165237239885 -1.6542570703056738 1.2551143962442715 -0.3814515523144337 -0.9539278207715061 -0.3477037633561355 -0.14874588242949022 0.6463610027084782 1.1471447557030474 -0.06697242621464991 0.6037270621243762 0.8729251917018003 0.6301394487164572\n"
     ]
    }
   ],
   "source": [
    "test_cases = (\n",
    "    (\"input.txt\", \"output.txt\"),\n",
    "    (\"input2.txt\", \"output2.txt\"),\n",
    ")\n",
    "\n",
    "for i in range(len(test_cases)):\n",
    "    print(f\"Test case {i + 1}:\")\n",
    "    gauss_solver(*test_cases[i])"
   ],
   "metadata": {
    "collapsed": false,
    "ExecuteTime": {
     "end_time": "2024-12-15T18:27:19.198991Z",
     "start_time": "2024-12-15T18:27:19.158596Z"
    }
   },
   "id": "66bf71e0a3bdca86",
   "execution_count": 8
  },
  {
   "cell_type": "raw",
   "source": [],
   "metadata": {
    "collapsed": false
   },
   "id": "9e480df5c7a8a7ec"
  }
 ],
 "metadata": {
  "kernelspec": {
   "name": "python3",
   "language": "python",
   "display_name": "Python 3 (ipykernel)"
  }
 },
 "nbformat": 4,
 "nbformat_minor": 5
}
